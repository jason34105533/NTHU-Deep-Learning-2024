version https://git-lfs.github.com/spec/v1
oid sha256:3319789420fba02fa121dc5394d31529cfd4996a315fa72f03b2e916a41ef300
size 26177
