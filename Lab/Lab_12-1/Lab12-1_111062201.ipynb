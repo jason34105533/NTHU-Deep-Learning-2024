version https://git-lfs.github.com/spec/v1
oid sha256:34dd2a15ddb3c2280c04b7592d8822d16435be070dc308db8ab003f666768d2f
size 43339
