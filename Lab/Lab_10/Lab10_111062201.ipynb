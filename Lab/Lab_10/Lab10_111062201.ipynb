version https://git-lfs.github.com/spec/v1
oid sha256:5a651fb03d33076e0d5762bafa39c10363fcb2857af52f8e0e972e30422124e7
size 845569
